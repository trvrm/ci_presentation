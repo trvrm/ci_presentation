{
 "cells": [
  {
   "cell_type": "markdown",
   "metadata": {
    "slideshow": {
     "slide_type": "slide"
    }
   },
   "source": [
    "# Continuous Integration\n"
   ]
  },
  {
   "cell_type": "markdown",
   "metadata": {
    "slideshow": {
     "slide_type": "slide"
    }
   },
   "source": [
    "\n",
    "\n",
    "![title](images/01_CD_the_idea_low-res.jpg)\n"
   ]
  },
  {
   "cell_type": "markdown",
   "metadata": {
    "slideshow": {
     "slide_type": "slide"
    }
   },
   "source": [
    "# The problem\n",
    "\n",
    "When creating and managing processes for large-scale, long term projects, mistakes can happen that aren't caught for years.\n",
    "\n",
    "The cost of a mistake increases significantly with the length of time it takes to find it.\n",
    "\n",
    "Waiting until launch can be *very* expensive"
   ]
  },
  {
   "cell_type": "markdown",
   "metadata": {
    "slideshow": {
     "slide_type": "slide"
    }
   },
   "source": [
    "![explosion](images/Explosion_of_first_Ariane_5_flight_June_4_1996.jpg)\n",
    "\n",
    "\n",
    "* $370 million\n",
    "* Lots of PhD theses"
   ]
  },
  {
   "cell_type": "markdown",
   "metadata": {
    "slideshow": {
     "slide_type": "slide"
    }
   },
   "source": [
    "\n",
    "# Old model\n",
    "\n",
    "\n",
    "* Gather requirements\n",
    "* Design\n",
    "* Build\n",
    "* Deploy\n",
    "\n",
    "\n",
    "Some errors won't be found until the deployment stage."
   ]
  },
  {
   "cell_type": "markdown",
   "metadata": {
    "slideshow": {
     "slide_type": "slide"
    }
   },
   "source": [
    "# Fail Fast!"
   ]
  },
  {
   "cell_type": "markdown",
   "metadata": {
    "slideshow": {
     "slide_type": "slide"
    }
   },
   "source": [
    "## Examples\n"
   ]
  },
  {
   "cell_type": "markdown",
   "metadata": {
    "slideshow": {
     "slide_type": "slide"
    }
   },
   "source": [
    "### Toyota\n",
    "\n",
    "We developed ICS - the Inspection Control System\n",
    "\n",
    "Feedback is given at all stages of the manufacturing process\n",
    "\n",
    "Defects are remedied as close as possible to their source\n",
    "\n"
   ]
  },
  {
   "cell_type": "markdown",
   "metadata": {
    "slideshow": {
     "slide_type": "slide"
    }
   },
   "source": [
    "\n",
    "### TREC\n",
    "\n",
    "#### Translating Research in Elder Care\n",
    "\n",
    "\n",
    "http://www.trec.ualberta.ca/\n",
    "\n",
    "\n",
    "\n",
    "\n"
   ]
  },
  {
   "cell_type": "markdown",
   "metadata": {
    "slideshow": {
     "slide_type": "slide"
    }
   },
   "source": [
    "\n",
    "\n",
    "Instruments:\n",
    "* Facility\n",
    "* Units\n",
    "* Specialist\n",
    "* Nurse\n",
    "* Manager\n",
    "* Health Care Aids\n",
    "\n",
    "https://trec.svy.ca/app/account\n",
    "\n",
    "\n",
    "\n",
    "Facility Management\n",
    "\n",
    "https://hca.svy.ca/app/facilityunit/facilities\n",
    "\n"
   ]
  },
  {
   "cell_type": "markdown",
   "metadata": {
    "slideshow": {
     "slide_type": "slide"
    }
   },
   "source": [
    "\n",
    "#### Considerations:\n",
    "\n",
    "* Site (facility) management, including changes over time.\n",
    "* Metadata management\n",
    "* Data collection.\n",
    "* Codebooks.\n",
    "* Dashboards"
   ]
  },
  {
   "cell_type": "markdown",
   "metadata": {
    "slideshow": {
     "slide_type": "slide"
    }
   },
   "source": [
    "\n",
    "\n",
    "## Continuous Integration\n",
    "\n",
    "CI can be applied at several levels.\n",
    "\n",
    "\n",
    "* Enterprise\n",
    "\n",
    "* Processes\n",
    "\n",
    "* Software development\n",
    "\n",
    "Many of the same techniques apply, but I'll be focusing on software development.\n"
   ]
  },
  {
   "cell_type": "markdown",
   "metadata": {
    "slideshow": {
     "slide_type": "slide"
    }
   },
   "source": [
    "# Tools\n",
    "\n",
    "* Collaboration\n",
    "* Metadata management\n",
    "* Institutional memory\n",
    "* Issue tracking\n",
    "* Unit testing\n",
    "* Source Control\n",
    "* CI\n",
    "* Dashboards\n",
    "\n"
   ]
  },
  {
   "cell_type": "markdown",
   "metadata": {
    "slideshow": {
     "slide_type": "slide"
    }
   },
   "source": [
    "## Collaboration\n",
    "\n",
    "### Realtime\n",
    "\n",
    "* Face to face\n",
    "* Skype\n",
    "* Hangouts\n",
    "* ...\n",
    "\n",
    "### Near realtime\n",
    "\n",
    "* Chatrooms\n",
    "* Slack  (https://civictechto.slack.com/messages/general/team/jrootham/)\n",
    "* Mattermost\n",
    "\n",
    "* https://gitter.im/pydata/pandas\n",
    "\n",
    "### Asynchonous\n",
    "\n",
    "* Email"
   ]
  },
  {
   "cell_type": "markdown",
   "metadata": {
    "slideshow": {
     "slide_type": "slide"
    }
   },
   "source": [
    "## Institutional Memory\n",
    "\n",
    "The problem:\n",
    "\n",
    "* People move on\n",
    "* Processes aren't documented.\n",
    "* The only person who knows how to import a certain file is a grad student who left 3 years ago\n",
    "* The reasons *behind* processes aren't documented\n",
    "\n",
    "\n",
    "\n",
    "\n"
   ]
  },
  {
   "cell_type": "markdown",
   "metadata": {
    "slideshow": {
     "slide_type": "slide"
    }
   },
   "source": [
    "Tools\n",
    "\n",
    "* Wiki (https://github.com/pandas-dev/pandas/wiki)\n",
    "* Evernote\n",
    "* Sphinx (http://pandas.pydata.org/pandas-docs/stable/)\n",
    "* Blogs  (https://trvrm.github.io/)\n",
    "\n",
    "Record:\n",
    "\n",
    "* What do we do\n",
    "* How do we do it\n",
    "* Why do we do it\n",
    "* Who does it\n",
    "* How do we know it's working\n"
   ]
  },
  {
   "cell_type": "markdown",
   "metadata": {
    "slideshow": {
     "slide_type": "slide"
    }
   },
   "source": [
    "## Sharing Code, Processes, and documentation\n",
    "\n",
    "https://try.jupyter.org/\n",
    "\n",
    "https://nbviewer.jupyter.org/\n",
    "\n",
    "Jupyter notebooks are an *incredible* tool.\n",
    "\n",
    "* Write code\n",
    "* Write documentation\n",
    "* Write books\n",
    "* Collaborate\n",
    "* Explore\n",
    "\n",
    "\n",
    "This presentation is written in Jupyter.\n",
    "\n",
    "Sample use case\n",
    "\n",
    "https://github.com/trvrm/notebooks/blob/master/bulk_psycopg2_inserts.ipynb\n",
    "\n",
    "Publish to blog:\n",
    "\n",
    "https://trvrm.github.io/bulk-psycopg2-inserts.html"
   ]
  },
  {
   "cell_type": "markdown",
   "metadata": {
    "slideshow": {
     "slide_type": "slide"
    }
   },
   "source": [
    "\n",
    "\n",
    "![code](images/code_work.jpg)\n",
    "\n",
    "\n",
    "\n"
   ]
  },
  {
   "cell_type": "markdown",
   "metadata": {
    "slideshow": {
     "slide_type": "slide"
    }
   },
   "source": [
    "Write the test before fixing the code!\n",
    "\n",
    "https://github.com/pandas-dev/pandas/pull/11937/commits/7f00dbcd7dcef6c1354e36381e1501b5e95208ff\n",
    "    \n",
    "    "
   ]
  },
  {
   "cell_type": "markdown",
   "metadata": {
    "slideshow": {
     "slide_type": "slide"
    }
   },
   "source": [
    "Choose the tool for your framework/library/language.\n",
    "\n",
    "\n",
    "* write your tests concurrently with your code\n",
    "* write regression tests  (e.g. nosetests)\n",
    "* use code coverage tools  (e.g. coverage)\n",
    "* use code quality tools (e.g. flake8)\n",
    "\n"
   ]
  },
  {
   "cell_type": "markdown",
   "metadata": {
    "slideshow": {
     "slide_type": "slide"
    }
   },
   "source": [
    "## Source Control\n",
    "\n",
    "* Git  (https://github.com/trvrm/pandas/commit/7f00dbcd7dcef6c1354e36381e1501b5e95208ff)\n",
    "* Mercurial\n",
    "* Subversion\n",
    "\n",
    "\n",
    "**Track everything in source control**\n",
    "\n",
    "Source control isn't just for code.  This presentation is available for collaboration at https://github.com/trvrm/ci_presentation"
   ]
  },
  {
   "cell_type": "markdown",
   "metadata": {
    "collapsed": true,
    "slideshow": {
     "slide_type": "slide"
    }
   },
   "source": [
    "\n",
    "## Continuous Integration\n",
    "\n",
    "https://travis-ci.org/pandas-dev/pandas\n",
    " \n",
    "\n",
    "* Tests are run automatically on every commit.\n",
    "* Failed tests prevent upstream merges"
   ]
  },
  {
   "cell_type": "markdown",
   "metadata": {
    "slideshow": {
     "slide_type": "slide"
    }
   },
   "source": [
    "## Dashboards\n",
    "\n",
    "This is a broader concept.\n",
    "\n",
    "* KANBAN: https://en.wikipedia.org/wiki/Kanban\n",
    "* Surveymedia"
   ]
  },
  {
   "cell_type": "markdown",
   "metadata": {
    "slideshow": {
     "slide_type": "slide"
    }
   },
   "source": [
    "## Suggestions\n",
    "\n",
    "- pick the right tools for your process\n",
    "- don't be afraid to write your own\n",
    "- automate everything that can be automated\n",
    "- test everything\n",
    "- Do end-to-end integration as soon as possible.\n",
    "- Mistakes increase in cost the longer it takes to find them\n"
   ]
  },
  {
   "cell_type": "markdown",
   "metadata": {
    "slideshow": {
     "slide_type": "slide"
    }
   },
   "source": [
    "## Specifics\n",
    "\n",
    "**TMIST**\n",
    "\n",
    "#### Who, what, how, why, when, where?\n",
    "\n",
    "* What are your sites?\n",
    "* What data are you collecting?\n",
    "* What time frame will you collect data over?\n",
    "* What processes need implemented and documented?\n",
    "* How do you record the rationale behind those processes?\n",
    "* How do you manage changes to those processes?\n"
   ]
  },
  {
   "cell_type": "markdown",
   "metadata": {
    "slideshow": {
     "slide_type": "slide"
    }
   },
   "source": [
    "# Discussion"
   ]
  },
  {
   "cell_type": "markdown",
   "metadata": {
    "slideshow": {
     "slide_type": "slide"
    }
   },
   "source": [
    "## Resources\n",
    "\n",
    "* https://github.com/\n",
    "* https://www.mercurial-scm.org/\n",
    "* https://about.mattermost.com/\n",
    "* https://travis-ci.org/\n",
    "* http://www.fabfile.org/\n",
    "* http://www.pyinvoke.org/\n",
    "* https://github.com/adam-p/markdown-here/wiki/Markdown-Cheatsheet\n",
    "* http://www.mkdocs.org/\n",
    "* https://try.jupyter.org/\n",
    "* https://coverage.readthedocs.io/en/coverage-4.3.4/\n",
    "* http://flake8.pycqa.org/en/latest/"
   ]
  },
  {
   "cell_type": "markdown",
   "metadata": {
    "slideshow": {
     "slide_type": "slide"
    }
   },
   "source": [
    "# Thank you!\n",
    "\n",
    "Trevor Morgan\n",
    "\n",
    "* https://trvrm.github.io\n",
    "* https://nooro.com/\n"
   ]
  }
 ],
 "metadata": {
  "celltoolbar": "Slideshow",
  "kernelspec": {
   "display_name": "Python 3",
   "language": "python",
   "name": "python3"
  },
  "language_info": {
   "codemirror_mode": {
    "name": "ipython",
    "version": 3
   },
   "file_extension": ".py",
   "mimetype": "text/x-python",
   "name": "python",
   "nbconvert_exporter": "python",
   "pygments_lexer": "ipython3",
   "version": "3.5.2"
  }
 },
 "nbformat": 4,
 "nbformat_minor": 2
}
